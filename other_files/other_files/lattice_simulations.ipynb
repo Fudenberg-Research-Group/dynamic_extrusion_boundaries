{
 "cells": [
  {
   "cell_type": "code",
   "execution_count": 1,
   "id": "f8bf0d50",
   "metadata": {},
   "outputs": [],
   "source": [
    "import numpy as np\n",
    "import matplotlib.pylab as plt\n",
    "\n",
    "from lattice_translocators import LEFTranslocator, LEFTranslocatorDynamicBoundary"
   ]
  },
  {
   "cell_type": "markdown",
   "id": "92915c27",
   "metadata": {},
   "source": [
    "# Extrusion dictionary"
   ]
  },
  {
   "cell_type": "code",
   "execution_count": 2,
   "id": "b2c17604",
   "metadata": {},
   "outputs": [],
   "source": [
    "paramdict = {\n",
    "    'CTCF_facestall': [1.0],\n",
    "    'CTCF_backstall': [0.0],\n",
    "    'CTCF_lifetime': [10.],\n",
    "    'CTCF_offtime': [0.1],\n",
    "    'LEF_lifetime': [50],\n",
    "    'LEF_stalled_lifetime': [50],\n",
    "    'LEF_birth': [0.1],\n",
    "    'LEF_pause': [0],\n",
    "    'LEF_separation': 10,\n",
    "    'sites_per_monomer': 10,\n",
    "    'monomers_per_replica': 100,\n",
    "    'number_of_replica': 10,\n",
    "    'steps': 200,\n",
    "    'velocity_multiplier': 1\n",
    "}"
   ]
  },
  {
   "cell_type": "markdown",
   "id": "70b23938",
   "metadata": {},
   "source": [
    "# Making Arrays"
   ]
  },
  {
   "cell_type": "code",
   "execution_count": 3,
   "id": "07c2032e",
   "metadata": {},
   "outputs": [],
   "source": [
    "def make_site_array(site_types, \n",
    "                    values, \n",
    "                    at_ids=None, \n",
    "                    number_of_replica=1, \n",
    "                    **kwargs):\n",
    "    \n",
    "    assert site_types.max() < len(values), ('Number of values (%d) incompatible with number of site types (%d)'\n",
    "                                            % (len(values), site_types.max()))\n",
    "    \n",
    "    prop_array = np.zeros(len(site_types), dtype=np.double)\n",
    "    \n",
    "    for i, value in enumerate(values):\n",
    "        prop_array[site_types == i] = value\n",
    "        \n",
    "    if isinstance(at_ids, np.ndarray):\n",
    "        mask = np.zeros(len(site_types), dtype=bool)\n",
    "        mask[at_ids] = True\n",
    "        \n",
    "        prop_array[~mask] = 0\n",
    "        \n",
    "    return np.tile(prop_array, number_of_replica)"
   ]
  },
  {
   "cell_type": "markdown",
   "id": "84c728c0",
   "metadata": {},
   "source": [
    "### CTCF arrays"
   ]
  },
  {
   "cell_type": "code",
   "execution_count": 4,
   "id": "2eb98564",
   "metadata": {},
   "outputs": [],
   "source": [
    "def make_CTCF_arrays(site_types,\n",
    "                     CTCF_left_positions,\n",
    "                     CTCF_right_positions,\n",
    "                     CTCF_facestall,\n",
    "                     CTCF_backstall,\n",
    "                     **kwargs):\n",
    "    \n",
    "    stall_left_array = make_site_array(site_types, CTCF_facestall, at_ids=CTCF_left_positions, **kwargs)\n",
    "    stall_right_array = make_site_array(site_types, CTCF_facestall, at_ids=CTCF_right_positions, **kwargs)\n",
    "    \n",
    "    stall_left_array += make_site_array(site_types, CTCF_backstall, at_ids=CTCF_right_positions, **kwargs)\n",
    "    stall_right_array += make_site_array(site_types, CTCF_backstall, at_idsids=CTCF_left_positions, **kwargs)\n",
    "    \n",
    "    return [stall_left_array, stall_right_array]"
   ]
  },
  {
   "cell_type": "code",
   "execution_count": 5,
   "id": "64b80de0",
   "metadata": {},
   "outputs": [],
   "source": [
    "def make_CTCF_dynamic_arrays(site_types,\n",
    "                             CTCF_lifetime,\n",
    "                             CTCF_offtime,\n",
    "                             sites_per_monomer,\n",
    "                             velocity_multiplier,\n",
    "                             **kwargs):\n",
    "    \n",
    "    CTCF_lifetime_array = make_site_array(site_types, CTCF_lifetime, **kwargs)\n",
    "    CTCF_offtime_array = make_site_array(site_types, CTCF_offtime, **kwargs)\n",
    "    \n",
    "    CTCF_death_array = 1./ CTCF_lifetime_array / (velocity_multiplier * sites_per_monomer)\n",
    "    CTCF_birth_array = 1./ CTCF_offtime_array / (velocity_multiplier * sites_per_monomer)\n",
    "\n",
    "    return [CTCF_death_array, CTCF_birth_array]"
   ]
  },
  {
   "cell_type": "markdown",
   "id": "7914b302",
   "metadata": {},
   "source": [
    "### LEF arrays"
   ]
  },
  {
   "cell_type": "code",
   "execution_count": 6,
   "id": "0f4f559b",
   "metadata": {},
   "outputs": [],
   "source": [
    "def make_LEF_arrays(site_types,\n",
    "                    LEF_lifetime,\n",
    "                    LEF_stalled_lifetime,\n",
    "                    LEF_birth,\n",
    "                    LEF_pause,\n",
    "                    sites_per_monomer,\n",
    "                    velocity_multiplier,\n",
    "                    **kwargs):\n",
    "    \n",
    "    lifetime_array = make_site_array(site_types, LEF_lifetime, **kwargs)\n",
    "    stalled_lifetime_array = make_site_array(site_types, LEF_stalled_lifetime, **kwargs)\n",
    "    \n",
    "    birth_array = make_site_array(site_types, LEF_birth, **kwargs)\n",
    "    pause_array = make_site_array(site_types, LEF_pause, **kwargs)\n",
    "    \n",
    "    death_array = 1./ lifetime_array / (velocity_multiplier * sites_per_monomer)\n",
    "    stalled_death_array = 1./ stalled_lifetime_array / (velocity_multiplier * sites_per_monomer)\n",
    "\n",
    "    return [death_array, stalled_death_array, birth_array, pause_array]"
   ]
  },
  {
   "cell_type": "markdown",
   "id": "ef3e3106",
   "metadata": {},
   "source": [
    "# Making extruders"
   ]
  },
  {
   "cell_type": "code",
   "execution_count": 7,
   "id": "a7d82b03",
   "metadata": {},
   "outputs": [],
   "source": [
    "def make_translocator(extrusion_engine, \n",
    "                      site_types,\n",
    "                      CTCF_left_positions,\n",
    "                      CTCF_right_positions,\n",
    "                      **kwargs):\n",
    "\n",
    "    LEF_separation = kwargs['LEF_separation']    \n",
    "    velocity_multiplier = kwargs['velocity_multiplier'] \n",
    "    \n",
    "    sites_per_monomer = kwargs['sites_per_monomer'] \n",
    "    \n",
    "    number_of_replica = kwargs['number_of_replica'] \n",
    "    monomers_per_replica = kwargs['monomers_per_replica'] \n",
    "\n",
    "    number_of_monomers = number_of_replica * monomers_per_replica\n",
    "    number_of_LEFs = number_of_monomers // LEF_separation\n",
    "    \n",
    "    sites_per_replica = monomers_per_replica*sites_per_monomer\n",
    "\n",
    "    assert len(site_types) == sites_per_replica, (\"Site type array (%d) doesn't match replica lattice size (%d)\"\n",
    "                                                  % (len(site_types), sites_per_replica))\n",
    "\n",
    "    # Create arrays\n",
    "    LEF_arrays = make_LEF_arrays(site_types, **kwargs)\n",
    "    \n",
    "    CTCF_arrays = make_CTCF_arrays(site_types, CTCF_left_positions, CTCF_right_positions, **kwargs)\n",
    "    CTCF_dynamic_arrays = make_CTCF_dynamic_arrays(site_types, **kwargs)\n",
    "\n",
    "    LEFTran = extrusion_engine(number_of_LEFs, *LEF_arrays, *CTCF_arrays, *CTCF_dynamic_arrays)\n",
    "\n",
    "    if not isinstance(LEFTran, LEFTranslocatorDynamicBoundary):\n",
    "        LEFTran.stallProbLeft = 1 - (1 - LEFTran.stallProbLeft) ** (1. / velocity_multiplier)\n",
    "        LEFTran.stallProbRight = 1 - (1 - LEFTran.stallProbRight) ** (1. / velocity_multiplier)\n",
    "\n",
    "    return LEFTran"
   ]
  },
  {
   "cell_type": "code",
   "execution_count": 8,
   "id": "2ef9900f",
   "metadata": {},
   "outputs": [],
   "source": [
    "monomers_per_replica = paramdict['monomers_per_replica'] \n",
    "sites_per_monomer = paramdict['sites_per_monomer']\n",
    "\n",
    "sites_per_replica = monomers_per_replica*sites_per_monomer"
   ]
  },
  {
   "cell_type": "code",
   "execution_count": 9,
   "id": "42cb11ae",
   "metadata": {},
   "outputs": [],
   "source": [
    "# Work with a single type of monomers (A, assigned to type index 0)\n",
    "typedict = {'A': 0}\n",
    "\n",
    "monomer_types = np.zeros(monomers_per_replica, dtype=int)\n",
    "site_types = np.repeat(monomer_types, sites_per_monomer)"
   ]
  },
  {
   "cell_type": "code",
   "execution_count": 10,
   "id": "57ced89f",
   "metadata": {},
   "outputs": [
    {
     "name": "stdout",
     "output_type": "stream",
     "text": [
      "50 1.0\n"
     ]
    }
   ],
   "source": [
    "# LEF/CTCF properties in type A monomers may be obtained from the paramdict as follows\n",
    "LEF_lifetime = paramdict['LEF_lifetime']\n",
    "CTCF_facestall = paramdict['CTCF_facestall']\n",
    "\n",
    "print(LEF_lifetime[typedict['A']], CTCF_facestall[typedict['A']])"
   ]
  },
  {
   "cell_type": "code",
   "execution_count": 11,
   "id": "13602cc5",
   "metadata": {},
   "outputs": [],
   "source": [
    "# Create some CTCF boundary sites\n",
    "TAD_size = 20 # in monomers\n",
    "\n",
    "CTCF_left_positions = np.arange(0, sites_per_replica, TAD_size*sites_per_monomer)\n",
    "CTCF_right_positions = np.arange(0, sites_per_replica, TAD_size*sites_per_monomer)"
   ]
  },
  {
   "cell_type": "markdown",
   "id": "eb6b3d53",
   "metadata": {},
   "source": [
    "# Kymograph Analysis"
   ]
  },
  {
   "cell_type": "code",
   "execution_count": 12,
   "id": "2a4d98ca",
   "metadata": {},
   "outputs": [],
   "source": [
    "translocator = make_translocator(LEFTranslocatorDynamicBoundary, \n",
    "                                 site_types,\n",
    "                                 CTCF_left_positions,\n",
    "                                 CTCF_right_positions, \n",
    "                                 **paramdict)"
   ]
  },
  {
   "cell_type": "code",
   "execution_count": 13,
   "id": "9719b16a",
   "metadata": {},
   "outputs": [],
   "source": [
    "trajectory_length = 1000 * paramdict['sites_per_monomer']\n",
    "hist = []\n",
    "\n",
    "for _ in range(trajectory_length):\n",
    "    translocator.step()\n",
    "    hist.append(translocator.LEFs.copy())"
   ]
  },
  {
   "cell_type": "code",
   "execution_count": 14,
   "id": "8fefaefc",
   "metadata": {},
   "outputs": [],
   "source": [
    "def map_from_lefs(dset, sites_per_replica):\n",
    "    \n",
    "    ll = np.mod(dset.reshape((-1, 2)), sites_per_replica)\n",
    "    ll = ll[ll[:,1] > ll[:,0]]\n",
    "    \n",
    "    lmap = np.histogram2d(ll[:,0], ll[:,1], np.arange(sites_per_replica))[0]\n",
    "    \n",
    "    return (lmap + lmap.T)"
   ]
  },
  {
   "cell_type": "code",
   "execution_count": 15,
   "id": "7d83e193",
   "metadata": {},
   "outputs": [
    {
     "data": {
      "image/png": "[encoded data removed]",
      "text/plain": [
       "<Figure size 432x288 with 1 Axes>"
      ]
     },
     "metadata": {
      "needs_background": "light"
     },
     "output_type": "display_data"
    }
   ],
   "source": [
    "kymograph = map_from_lefs(np.asarray(hist), sites_per_replica)\n",
    "                    \n",
    "plt.matshow(np.log10(kymograph+1),vmax=1.5/(np.sqrt(paramdict['sites_per_monomer'])), fignum=False) \n",
    "            \n",
    "plt.title('CTCF_offtime=%s, CTCF_facestall=%s' % (paramdict['CTCF_offtime'],\n",
    "                                                  paramdict['CTCF_facestall']),\n",
    "          fontsize=12)\n",
    "\n",
    "plt.xticks([])\n",
    "plt.yticks(fontsize=10)\n",
    "            \n",
    "plt.tight_layout()\n",
    "plt.show()                       \n",
    "                "
   ]
  },
  {
   "cell_type": "code",
   "execution_count": 16,
   "id": "56789446",
   "metadata": {},
   "outputs": [],
   "source": [
    "# Let's make some strong and weak CTCF regions\n",
    "typedict = {'strong_CTCF':0, 'weak_CTCF':1}\n",
    "\n",
    "site_types[:sites_per_replica//2] = typedict['strong_CTCF']\n",
    "site_types[sites_per_replica//2:] = typedict['weak_CTCF']"
   ]
  },
  {
   "cell_type": "code",
   "execution_count": 17,
   "id": "ab32a8bc",
   "metadata": {},
   "outputs": [],
   "source": [
    "paramdict_CTCF = {\n",
    "    'CTCF_facestall': [1, 0.5],\n",
    "    'CTCF_backstall': [0., 0.],\n",
    "    'CTCF_lifetime': [10., 10.],\n",
    "    'CTCF_offtime': [0.1, 0.1],\n",
    "    'LEF_lifetime': [50, 50],\n",
    "    'LEF_stalled_lifetime': [50, 50],\n",
    "    'LEF_birth': [0.1, 0.1],\n",
    "    'LEF_pause': [0, 0],\n",
    "    'LEF_separation': 10,\n",
    "    'sites_per_monomer': 10,\n",
    "    'monomers_per_replica': 100,\n",
    "    'number_of_replica': 10,\n",
    "    'steps': 200,\n",
    "    'velocity_multiplier': 1\n",
    "}"
   ]
  },
  {
   "cell_type": "code",
   "execution_count": 18,
   "id": "864d67d9",
   "metadata": {},
   "outputs": [
    {
     "name": "stdout",
     "output_type": "stream",
     "text": [
      "1 0.5\n"
     ]
    }
   ],
   "source": [
    "CTCF_facestall = paramdict_CTCF['CTCF_facestall']\n",
    "\n",
    "print(CTCF_facestall[typedict['strong_CTCF']], CTCF_facestall[typedict['weak_CTCF']])"
   ]
  },
  {
   "cell_type": "code",
   "execution_count": 19,
   "id": "cb456ca3",
   "metadata": {},
   "outputs": [],
   "source": [
    "translocator = make_translocator(LEFTranslocatorDynamicBoundary, \n",
    "                                 site_types,\n",
    "                                 CTCF_left_positions,\n",
    "                                 CTCF_right_positions, \n",
    "                                 **paramdict_CTCF)"
   ]
  },
  {
   "cell_type": "code",
   "execution_count": 20,
   "id": "1021beee",
   "metadata": {},
   "outputs": [],
   "source": [
    "trajectory_length = 1000 * paramdict_CTCF['sites_per_monomer']\n",
    "hist = []\n",
    "\n",
    "for _ in range(trajectory_length):\n",
    "    translocator.step()\n",
    "    hist.append(translocator.LEFs.copy())"
   ]
  },
  {
   "cell_type": "code",
   "execution_count": 21,
   "id": "b8644ee9",
   "metadata": {},
   "outputs": [
    {
     "data": {
      "image/png": "[encoded data removed]",
      "text/plain": [
       "<Figure size 432x288 with 1 Axes>"
      ]
     },
     "metadata": {
      "needs_background": "light"
     },
     "output_type": "display_data"
    }
   ],
   "source": [
    "kymograph = map_from_lefs(np.asarray(hist), sites_per_replica)\n",
    "                    \n",
    "plt.matshow(np.log10(kymograph+1),vmax=1.5/(np.sqrt(paramdict_CTCF['sites_per_monomer'])), fignum=False) \n",
    "                    \n",
    "plt.title('CTCF_offtime=%s, CTCF_facestall=%s' % (paramdict_CTCF['CTCF_offtime'],\n",
    "                                                  paramdict_CTCF['CTCF_facestall']),\n",
    "          fontsize=12)\n",
    "\n",
    "plt.xticks([])\n",
    "plt.yticks(fontsize=10)\n",
    "            \n",
    "plt.tight_layout()\n",
    "plt.show()                       \n",
    "                "
   ]
  },
  {
   "cell_type": "code",
   "execution_count": 22,
   "id": "fc8ae916",
   "metadata": {},
   "outputs": [],
   "source": [
    "# Or, alternatively, a region with higher CTCF offtime\n",
    "paramdict_CTCF['CTCF_facestall'] = [1., 1.]\n",
    "paramdict_CTCF['CTCF_offtime'] = [0.1, 1.]"
   ]
  },
  {
   "cell_type": "code",
   "execution_count": 23,
   "id": "db6f2d03",
   "metadata": {},
   "outputs": [],
   "source": [
    "translocator = make_translocator(LEFTranslocatorDynamicBoundary, \n",
    "                                 site_types,\n",
    "                                 CTCF_left_positions,\n",
    "                                 CTCF_right_positions, \n",
    "                                 **paramdict_CTCF)"
   ]
  },
  {
   "cell_type": "code",
   "execution_count": 24,
   "id": "e221f71b",
   "metadata": {},
   "outputs": [],
   "source": [
    "trajectory_length = 1000 * paramdict_CTCF['sites_per_monomer']\n",
    "hist = []\n",
    "\n",
    "for _ in range(trajectory_length):\n",
    "    translocator.step()\n",
    "    hist.append(translocator.LEFs.copy())"
   ]
  },
  {
   "cell_type": "code",
   "execution_count": 25,
   "id": "bf7d764f",
   "metadata": {},
   "outputs": [
    {
     "data": {
      "image/png": "[encoded data removed]",
      "text/plain": [
       "<Figure size 432x288 with 1 Axes>"
      ]
     },
     "metadata": {
      "needs_background": "light"
     },
     "output_type": "display_data"
    }
   ],
   "source": [
    "kymograph = map_from_lefs(np.asarray(hist), sites_per_replica)\n",
    "                    \n",
    "plt.matshow(np.log10(kymograph+1),vmax=1.5/(np.sqrt(paramdict_CTCF['sites_per_monomer'])), fignum=False) \n",
    "                    \n",
    "plt.title('CTCF_offtime=%s, CTCF_facestall=%s' % (paramdict_CTCF['CTCF_offtime'],\n",
    "                                                  paramdict_CTCF['CTCF_facestall']),\n",
    "          fontsize=12)\n",
    "\n",
    "plt.xticks([])\n",
    "plt.yticks(fontsize=10)\n",
    "            \n",
    "plt.tight_layout()\n",
    "plt.show()                       \n",
    "                "
   ]
  },
  {
   "cell_type": "code",
   "execution_count": null,
   "id": "ec0ede0c",
   "metadata": {},
   "outputs": [],
   "source": []
  }
 ],
 "metadata": {
  "kernelspec": {
   "display_name": "Python 3 (ipykernel)",
   "language": "python",
   "name": "python3"
  },
  "language_info": {
   "codemirror_mode": {
    "name": "ipython",
    "version": 3
   },
   "file_extension": ".py",
   "mimetype": "text/x-python",
   "name": "python",
   "nbconvert_exporter": "python",
   "pygments_lexer": "ipython3",
   "version": "3.7.12"
  }
 },
 "nbformat": 4,
 "nbformat_minor": 5
}
