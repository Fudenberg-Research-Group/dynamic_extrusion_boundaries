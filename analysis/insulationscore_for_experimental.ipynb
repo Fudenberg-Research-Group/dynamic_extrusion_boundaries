{
 "cells": [
  {
   "cell_type": "code",
   "execution_count": 1,
   "id": "3a6dabec-80d4-4705-a502-e7fa144d91dd",
   "metadata": {},
   "outputs": [],
   "source": [
    "import matplotlib.pyplot as plt\n",
    "%matplotlib inline\n",
    "plt.rcParams['figure.dpi'] = 96\n",
    "import numpy as np\n",
    "import pandas as pd\n",
    "\n",
    "# import libraries for biological data analysis\n",
    "from coolpuppy import coolpup\n",
    "from coolpuppy.lib import numutils\n",
    "from coolpuppy.lib.puputils import divide_pups\n",
    "from coolpuppy import plotpup\n",
    "import cooler\n",
    "import bioframe\n",
    "import cooltools\n",
    "from cooltools import expected_cis, expected_trans\n",
    "from cooltools.lib import plotting\n",
    "import chromoscores.scorefunctions as chrscores\n",
    "\n",
    "\n",
    "import warnings\n",
    "warnings.filterwarnings('ignore')\n"
   ]
  },
  {
   "cell_type": "markdown",
   "id": "fc9a5498-648d-4dd7-9f41-504d03956b75",
   "metadata": {},
   "source": [
    "### ctcf peaks"
   ]
  },
  {
   "cell_type": "code",
   "execution_count": 2,
   "id": "cc060135-4da6-44fe-8766-f809358d9bbf",
   "metadata": {},
   "outputs": [],
   "source": [
    "ctcf = bioframe.read_table('/project/fudenber_735/yxiao977/frip_sm_data/ChIP_fastqs_maps/Justice_2020_mm10/SRR10099910/SRR10099910.q30.mm10.sort_peaks.narrowPeak', schema='bed')\n",
    "ctcf['mid']=(ctcf.end+ctcf.start)/2"
   ]
  },
  {
   "cell_type": "markdown",
   "id": "c373664f-aad8-42da-9365-85f874fdb825",
   "metadata": {},
   "source": [
    "### ctcf from JASPAR data"
   ]
  },
  {
   "cell_type": "code",
   "execution_count": 3,
   "id": "9bf9c943-e168-4255-a1f0-f2d9aaa324db",
   "metadata": {},
   "outputs": [],
   "source": [
    "direct='/project/fudenber_735/motifs/mm10/jaspar/MA0139.1.tsv.gz'"
   ]
  },
  {
   "cell_type": "code",
   "execution_count": 4,
   "id": "3b4b4e7b-491c-406a-9401-253609ca5e0f",
   "metadata": {},
   "outputs": [],
   "source": [
    "ctcfs_motif=bioframe.read_table(direct)"
   ]
  },
  {
   "cell_type": "code",
   "execution_count": 5,
   "id": "be924fa4-b931-4d70-81c9-ebef8d531f31",
   "metadata": {},
   "outputs": [],
   "source": [
    "ctcf_motif=ctcfs_motif.rename(columns={0: 'chrom', 1: 'start',2:'end',3:'name',4:'score',5:'pval',6:'strand'})\n"
   ]
  },
  {
   "cell_type": "markdown",
   "id": "4c2a79cd-6246-41d6-b89b-b5f3f0efcbb0",
   "metadata": {},
   "source": [
    "### overlap"
   ]
  },
  {
   "cell_type": "code",
   "execution_count": 6,
   "id": "0bebfe07-b11b-49d2-94b8-6470fc71f7b8",
   "metadata": {},
   "outputs": [],
   "source": [
    "peaks_motifs = bioframe.overlap(ctcf,ctcf_motif,how='inner')"
   ]
  },
  {
   "cell_type": "code",
   "execution_count": 7,
   "id": "73f6efc9-7856-4f03-b4de-ae4c4b44b232",
   "metadata": {},
   "outputs": [],
   "source": [
    "peaks_motifs = peaks_motifs[(peaks_motifs['chrom']!= 'chrX')&(peaks_motifs['chrom']!= 'chrY')]"
   ]
  },
  {
   "cell_type": "code",
   "execution_count": 8,
   "id": "4332dc2a-7b0b-4779-992f-6aabeec3b323",
   "metadata": {},
   "outputs": [],
   "source": [
    "peaks_motifs=peaks_motifs.rename(columns={'strand':'strand_','strand_':'strand'})"
   ]
  },
  {
   "cell_type": "code",
   "execution_count": 9,
   "id": "152b0e7e-02f6-4f23-b436-d806c8421f28",
   "metadata": {},
   "outputs": [],
   "source": [
    "peaks_motifs=peaks_motifs[['chrom','start','end','name','score','mid','strand']]"
   ]
  },
  {
   "cell_type": "markdown",
   "id": "aa21f88a-ba8b-4ce6-84e6-d15a7e16484c",
   "metadata": {},
   "source": [
    "### picking chromosomes "
   ]
  },
  {
   "cell_type": "code",
   "execution_count": 10,
   "id": "c3fa8494-af17-4a64-a50a-77c26796f594",
   "metadata": {},
   "outputs": [],
   "source": [
    "peaks_motifs = peaks_motifs[(peaks_motifs['chrom']!= 'chrX')&(peaks_motifs['chrom']!= 'chrY')]"
   ]
  },
  {
   "cell_type": "code",
   "execution_count": 11,
   "id": "0e4edeb2-3762-4a5a-a306-e7b8b8fe39db",
   "metadata": {},
   "outputs": [],
   "source": [
    "peaks_motifs_cluster = bioframe.cluster(peaks_motifs, min_dist=10000)#"
   ]
  },
  {
   "cell_type": "code",
   "execution_count": 12,
   "id": "1c925e41-feb3-4754-8901-7cf4b284ace1",
   "metadata": {},
   "outputs": [
    {
     "data": {
      "text/html": [
       "<div>\n",
       "<style scoped>\n",
       "    .dataframe tbody tr th:only-of-type {\n",
       "        vertical-align: middle;\n",
       "    }\n",
       "\n",
       "    .dataframe tbody tr th {\n",
       "        vertical-align: top;\n",
       "    }\n",
       "\n",
       "    .dataframe thead th {\n",
       "        text-align: right;\n",
       "    }\n",
       "</style>\n",
       "<table border=\"1\" class=\"dataframe\">\n",
       "  <thead>\n",
       "    <tr style=\"text-align: right;\">\n",
       "      <th></th>\n",
       "      <th>chrom</th>\n",
       "      <th>start</th>\n",
       "      <th>end</th>\n",
       "      <th>name</th>\n",
       "      <th>score</th>\n",
       "      <th>mid</th>\n",
       "      <th>strand</th>\n",
       "      <th>cluster</th>\n",
       "      <th>cluster_start</th>\n",
       "      <th>cluster_end</th>\n",
       "    </tr>\n",
       "  </thead>\n",
       "  <tbody>\n",
       "    <tr>\n",
       "      <th>0</th>\n",
       "      <td>chrM</td>\n",
       "      <td>50</td>\n",
       "      <td>1684</td>\n",
       "      <td>SRR10099910.q30.mm10.sort_peak_48675</td>\n",
       "      <td>146</td>\n",
       "      <td>867.0</td>\n",
       "      <td>-</td>\n",
       "      <td>29985</td>\n",
       "      <td>50</td>\n",
       "      <td>1684</td>\n",
       "    </tr>\n",
       "    <tr>\n",
       "      <th>1</th>\n",
       "      <td>chr18</td>\n",
       "      <td>3005726</td>\n",
       "      <td>3005978</td>\n",
       "      <td>SRR10099910.q30.mm10.sort_peak_21060</td>\n",
       "      <td>515</td>\n",
       "      <td>3005852.0</td>\n",
       "      <td>-</td>\n",
       "      <td>13137</td>\n",
       "      <td>3005726</td>\n",
       "      <td>3005978</td>\n",
       "    </tr>\n",
       "    <tr>\n",
       "      <th>2</th>\n",
       "      <td>chr18</td>\n",
       "      <td>3039488</td>\n",
       "      <td>3039650</td>\n",
       "      <td>SRR10099910.q30.mm10.sort_peak_21061</td>\n",
       "      <td>65</td>\n",
       "      <td>3039569.0</td>\n",
       "      <td>-</td>\n",
       "      <td>13138</td>\n",
       "      <td>3039488</td>\n",
       "      <td>3039650</td>\n",
       "    </tr>\n",
       "    <tr>\n",
       "      <th>3</th>\n",
       "      <td>chr14</td>\n",
       "      <td>3050178</td>\n",
       "      <td>3050329</td>\n",
       "      <td>SRR10099910.q30.mm10.sort_peak_13317</td>\n",
       "      <td>95</td>\n",
       "      <td>3050253.5</td>\n",
       "      <td>-</td>\n",
       "      <td>8283</td>\n",
       "      <td>3050178</td>\n",
       "      <td>3050329</td>\n",
       "    </tr>\n",
       "    <tr>\n",
       "      <th>4</th>\n",
       "      <td>chr4</td>\n",
       "      <td>3052367</td>\n",
       "      <td>3052649</td>\n",
       "      <td>SRR10099910.q30.mm10.sort_peak_30167</td>\n",
       "      <td>210</td>\n",
       "      <td>3052508.0</td>\n",
       "      <td>+</td>\n",
       "      <td>18804</td>\n",
       "      <td>3052367</td>\n",
       "      <td>3052649</td>\n",
       "    </tr>\n",
       "    <tr>\n",
       "      <th>...</th>\n",
       "      <td>...</td>\n",
       "      <td>...</td>\n",
       "      <td>...</td>\n",
       "      <td>...</td>\n",
       "      <td>...</td>\n",
       "      <td>...</td>\n",
       "      <td>...</td>\n",
       "      <td>...</td>\n",
       "      <td>...</td>\n",
       "      <td>...</td>\n",
       "    </tr>\n",
       "    <tr>\n",
       "      <th>29981</th>\n",
       "      <td>chr1</td>\n",
       "      <td>194879563</td>\n",
       "      <td>194879893</td>\n",
       "      <td>SRR10099910.q30.mm10.sort_peak_3195</td>\n",
       "      <td>894</td>\n",
       "      <td>194879728.0</td>\n",
       "      <td>+</td>\n",
       "      <td>2082</td>\n",
       "      <td>194879563</td>\n",
       "      <td>194879893</td>\n",
       "    </tr>\n",
       "    <tr>\n",
       "      <th>29982</th>\n",
       "      <td>chr1</td>\n",
       "      <td>194962248</td>\n",
       "      <td>194962539</td>\n",
       "      <td>SRR10099910.q30.mm10.sort_peak_3198</td>\n",
       "      <td>478</td>\n",
       "      <td>194962393.5</td>\n",
       "      <td>-</td>\n",
       "      <td>2083</td>\n",
       "      <td>194952981</td>\n",
       "      <td>194962539</td>\n",
       "    </tr>\n",
       "    <tr>\n",
       "      <th>29983</th>\n",
       "      <td>chr1</td>\n",
       "      <td>194976166</td>\n",
       "      <td>194976743</td>\n",
       "      <td>SRR10099910.q30.mm10.sort_peak_3199</td>\n",
       "      <td>596</td>\n",
       "      <td>194976454.5</td>\n",
       "      <td>+</td>\n",
       "      <td>2084</td>\n",
       "      <td>194976166</td>\n",
       "      <td>194976743</td>\n",
       "    </tr>\n",
       "    <tr>\n",
       "      <th>29984</th>\n",
       "      <td>chr1</td>\n",
       "      <td>195040477</td>\n",
       "      <td>195040747</td>\n",
       "      <td>SRR10099910.q30.mm10.sort_peak_3200</td>\n",
       "      <td>553</td>\n",
       "      <td>195040612.0</td>\n",
       "      <td>+</td>\n",
       "      <td>2085</td>\n",
       "      <td>195040477</td>\n",
       "      <td>195040747</td>\n",
       "    </tr>\n",
       "    <tr>\n",
       "      <th>29985</th>\n",
       "      <td>chr1</td>\n",
       "      <td>195241408</td>\n",
       "      <td>195241856</td>\n",
       "      <td>SRR10099910.q30.mm10.sort_peak_3204</td>\n",
       "      <td>730</td>\n",
       "      <td>195241632.0</td>\n",
       "      <td>+</td>\n",
       "      <td>2086</td>\n",
       "      <td>195232686</td>\n",
       "      <td>195241856</td>\n",
       "    </tr>\n",
       "  </tbody>\n",
       "</table>\n",
       "<p>29986 rows × 10 columns</p>\n",
       "</div>"
      ],
      "text/plain": [
       "       chrom      start        end                                  name   \n",
       "0       chrM         50       1684  SRR10099910.q30.mm10.sort_peak_48675  \\\n",
       "1      chr18    3005726    3005978  SRR10099910.q30.mm10.sort_peak_21060   \n",
       "2      chr18    3039488    3039650  SRR10099910.q30.mm10.sort_peak_21061   \n",
       "3      chr14    3050178    3050329  SRR10099910.q30.mm10.sort_peak_13317   \n",
       "4       chr4    3052367    3052649  SRR10099910.q30.mm10.sort_peak_30167   \n",
       "...      ...        ...        ...                                   ...   \n",
       "29981   chr1  194879563  194879893   SRR10099910.q30.mm10.sort_peak_3195   \n",
       "29982   chr1  194962248  194962539   SRR10099910.q30.mm10.sort_peak_3198   \n",
       "29983   chr1  194976166  194976743   SRR10099910.q30.mm10.sort_peak_3199   \n",
       "29984   chr1  195040477  195040747   SRR10099910.q30.mm10.sort_peak_3200   \n",
       "29985   chr1  195241408  195241856   SRR10099910.q30.mm10.sort_peak_3204   \n",
       "\n",
       "       score          mid strand  cluster  cluster_start  cluster_end  \n",
       "0        146        867.0      -    29985             50         1684  \n",
       "1        515    3005852.0      -    13137        3005726      3005978  \n",
       "2         65    3039569.0      -    13138        3039488      3039650  \n",
       "3         95    3050253.5      -     8283        3050178      3050329  \n",
       "4        210    3052508.0      +    18804        3052367      3052649  \n",
       "...      ...          ...    ...      ...            ...          ...  \n",
       "29981    894  194879728.0      +     2082      194879563    194879893  \n",
       "29982    478  194962393.5      -     2083      194952981    194962539  \n",
       "29983    596  194976454.5      +     2084      194976166    194976743  \n",
       "29984    553  195040612.0      +     2085      195040477    195040747  \n",
       "29985    730  195241632.0      +     2086      195232686    195241856  \n",
       "\n",
       "[29986 rows x 10 columns]"
      ]
     },
     "execution_count": 12,
     "metadata": {},
     "output_type": "execute_result"
    }
   ],
   "source": [
    "# Group by 'chuster_start' and 'cluster_end' and get the index of rows with the max 'score' within each group\n",
    "idx = peaks_motifs_cluster.groupby(['cluster_start', 'cluster_end'])['score'].idxmax()\n",
    "\n",
    "# Filter the dataframe to keep only the rows with the max 'score' in each group\n",
    "peaks_motifs_bin_s = peaks_motifs_cluster.loc[idx].reset_index(drop=True)\n",
    "\n",
    "peaks_motifs_bin_s"
   ]
  },
  {
   "cell_type": "markdown",
   "id": "be356881-90a7-407b-8e7e-586477bcc8b3",
   "metadata": {},
   "source": [
    "### importing experimental data "
   ]
  },
  {
   "cell_type": "code",
   "execution_count": 13,
   "id": "6c8c0106-31bd-4ea2-b4c2-b43aea8bde3a",
   "metadata": {},
   "outputs": [],
   "source": [
    "# high-resolution reprocessed publically-available data from Bonev et al. 2017\n",
    "res = 10_000\n",
    "bonev_file = '/project/fudenber_735/GEO/bonev_2017_GSE96107/distiller-0.3.1_mm10/results/coolers/HiC_ES.mm10.mapq_30.1000.mcool'\n",
    "bonev_cooler = cooler.Cooler(bonev_file+'::resolutions/'+str(res))\n",
    "view_df_bonev = cooltools.lib.make_cooler_view(bonev_cooler)[:19]"
   ]
  },
  {
   "cell_type": "code",
   "execution_count": 14,
   "id": "1d69ac2e-d668-4551-9539-03f20930811d",
   "metadata": {},
   "outputs": [],
   "source": [
    "# data from Liu& deWit et al. \n",
    "prefix_dir_liu = '/project/fudenber_735/GEO/liu_deWit_GSE181848/'\n",
    "cooler_prefix_liu = prefix_dir_liu\n",
    "sample_dict_liu ={\n",
    "    'Wapl-0h':'GSM5512837_HiC.01_WAPL_0h.mcool',\n",
    "    'Wapl-6h':'GSM5512838_HiC.02_WAPL_6h.mcool'\n",
    "}\n",
    "sample='Wapl-6h'\n",
    "mcool_path_liu =  cooler_prefix_liu + sample_dict_liu[sample]\n",
    "liu_cooler = cooler.Cooler(mcool_path_liu+'::resolutions/'+str(res))\n",
    "view_df_liu = cooltools.lib.make_cooler_view(liu_cooler)"
   ]
  },
  {
   "cell_type": "code",
   "execution_count": 15,
   "id": "e2e6810d-4783-4df4-a4c6-6ab6e88edc9d",
   "metadata": {},
   "outputs": [],
   "source": [
    "# data from Liu 2021\n",
    "prefix_dir_liu_new = '/project/fudenber_735/GEO/liu_deWit_2021_GSE135180/distiller-mm10/results/coolers_library/'\n",
    "cooler_prefix_liu_new = prefix_dir_liu_new\n",
    "sample_dict_liu_new ={\n",
    "    'Wapl-0h_new':'liu_wapl0h.mm10.mapq_30.1000.mcool',\n",
    "    'Wapl-24h_new':'liu_wapl24h.mm10.mapq_30.1000.mcool'\n",
    "}\n",
    "sample='Wapl-24h_new'\n",
    "mcool_path_liu_new =  cooler_prefix_liu_new + sample_dict_liu_new[sample]\n",
    "liu_new_cooler = cooler.Cooler(mcool_path_liu_new+'::resolutions/'+str(res))\n",
    "view_df_liu_new = cooltools.lib.make_cooler_view(liu_new_cooler)[:19]"
   ]
  },
  {
   "cell_type": "markdown",
   "id": "bfd67c67-a3f6-4a38-bb32-2dd2d81e4366",
   "metadata": {},
   "source": [
    "### isolation score, observed over expected\n"
   ]
  },
  {
   "cell_type": "code",
   "execution_count": 16,
   "id": "6cd1f499-d46b-4e03-a72b-017eae97cc5b",
   "metadata": {},
   "outputs": [],
   "source": [
    "import chromoscores.maputils as chrmap\n",
    "import chromoscores.snipping as chrsnip\n",
    "import chromoscores.scorefunctions as chrscores"
   ]
  },
  {
   "cell_type": "code",
   "execution_count": 17,
   "id": "28ccd5d9-7724-4011-ac7b-d90dcb4c32ea",
   "metadata": {},
   "outputs": [],
   "source": [
    "# Bonev et al 2017"
   ]
  },
  {
   "cell_type": "code",
   "execution_count": 53,
   "id": "afc1d05a-8c4c-4215-b6a5-806a0d75056e",
   "metadata": {},
   "outputs": [
    {
     "name": "stderr",
     "output_type": "stream",
     "text": [
      "INFO:coolpuppy:('chr1', 'chr1'): 2086\n",
      "INFO:coolpuppy:('chr2', 'chr2'): 2320\n",
      "INFO:coolpuppy:('chr3', 'chr3'): 1537\n",
      "INFO:coolpuppy:('chr4', 'chr4'): 1949\n",
      "INFO:coolpuppy:('chr5', 'chr5'): 2140\n",
      "INFO:coolpuppy:('chr6', 'chr6'): 1759\n",
      "INFO:coolpuppy:('chr7', 'chr7'): 1909\n",
      "INFO:coolpuppy:('chr8', 'chr8'): 1665\n",
      "INFO:coolpuppy:('chr9', 'chr9'): 1748\n",
      "INFO:coolpuppy:('chr10', 'chr10'): 1550\n",
      "INFO:coolpuppy:('chr11', 'chr11'): 2074\n",
      "INFO:coolpuppy:('chr12', 'chr12'): 1280\n",
      "INFO:coolpuppy:('chr13', 'chr13'): 1283\n",
      "INFO:coolpuppy:('chr14', 'chr14'): 1271\n",
      "INFO:coolpuppy:('chr15', 'chr15'): 1221\n",
      "INFO:coolpuppy:('chr16', 'chr16'): 1059\n",
      "INFO:coolpuppy:('chr17', 'chr17'): 1297\n",
      "INFO:coolpuppy:('chr18', 'chr18'): 915\n",
      "INFO:coolpuppy:('chr19', 'chr19'): 889\n",
      "INFO:coolpuppy:Total number of piled up windows: 29952\n"
     ]
    },
    {
     "name": "stdout",
     "output_type": "stream",
     "text": [
      "i is 0\n",
      "score is 1.1191465816344541\n",
      "i is 1\n",
      "score is 1.1124794751488274\n",
      "i is 2\n",
      "score is 1.1158979854136395\n"
     ]
    },
    {
     "data": {
      "image/png": "[encoded data removed]",
      "text/plain": [
       "<Figure size 864x288 with 4 Axes>"
      ]
     },
     "metadata": {},
     "output_type": "display_data"
    }
   ],
   "source": [
    "sites=peaks_motifs_bin_s.copy()\n",
    "clr = bonev_cooler\n",
    "pseudocount = 10./clr.info['sum']\n",
    "pseudocount_a = 0\n",
    "sites=peaks_motifs_bin_s.copy()\n",
    "clr = bonev_cooler\n",
    "pseudocount = 10./clr.info['sum']\n",
    "pseudocount = 0\n",
    "expected = expected_cis(\n",
    "    clr,\n",
    "    ignore_diags=0,\n",
    "    view_df=view_df_bonev[:19],\n",
    "    chunksize=1000000)\n",
    "\n",
    "pup = coolpup.pileup(clr, sites, features_format='bed', expected_df=expected,view_df=view_df_bonev[:19], local=True,\n",
    "                    by_strand=True,\n",
    "                    flank=300_000, min_diag=0\n",
    "                    )\n",
    "scr=[]\n",
    "delta_val = 1\n",
    "diag_offset_val = 5\n",
    "max_distance_val = 30\n",
    "for i in range(len(pup['data'])):\n",
    "    print('i is %s'%i)\n",
    "    #a,b,pile_c=get_isolated_regions(pup['data'][i],24,1,3,15)\n",
    "    pile = pup['data'][i]\n",
    "    score=chrscores.isolation_score(pile,delta=delta_val,diag_offset=diag_offset_val,max_dist=max_distance_val,\n",
    "                                    snippet_shapes='triangle',\n",
    "                                    pseudo_count=pseudocount)\n",
    "    scr.append(score)\n",
    "    print('score is %s'%score)\n",
    "    \n",
    "\n",
    "plotpup.plot(pup,\n",
    "         cols='orientation', col_order=['++', '--','all'],\n",
    "         score=False, cmap='coolwarm', scale='log', sym=True, vmax=1.5,\n",
    "         height=3)\n",
    "\n",
    "\n",
    "plt.savefig('output/figures/ondiagonal_for_bonev.pdf')\n",
    "plt.show()"
   ]
  },
  {
   "cell_type": "code",
   "execution_count": 18,
   "id": "16e03bc2-daca-4497-9e12-b85e51accd66",
   "metadata": {},
   "outputs": [],
   "source": [
    "# Liu et al"
   ]
  },
  {
   "cell_type": "code",
   "execution_count": 20,
   "id": "14a68806-4afc-44e9-934f-1824cee975cc",
   "metadata": {},
   "outputs": [
    {
     "name": "stderr",
     "output_type": "stream",
     "text": [
      "INFO:coolpuppy:('chr1', 'chr1'): 2086\n",
      "INFO:coolpuppy:('chr10', 'chr10'): 1550\n",
      "INFO:coolpuppy:('chr11', 'chr11'): 2074\n",
      "INFO:coolpuppy:('chr12', 'chr12'): 1280\n",
      "INFO:coolpuppy:('chr13', 'chr13'): 1283\n",
      "INFO:coolpuppy:('chr14', 'chr14'): 1271\n",
      "INFO:coolpuppy:('chr15', 'chr15'): 1221\n",
      "INFO:coolpuppy:('chr16', 'chr16'): 1059\n",
      "INFO:coolpuppy:('chr17', 'chr17'): 1297\n",
      "INFO:coolpuppy:('chr18', 'chr18'): 915\n",
      "INFO:coolpuppy:('chr19', 'chr19'): 889\n",
      "INFO:coolpuppy:('chr2', 'chr2'): 2320\n",
      "INFO:coolpuppy:('chr3', 'chr3'): 1537\n",
      "INFO:coolpuppy:('chr4', 'chr4'): 1949\n",
      "INFO:coolpuppy:('chr5', 'chr5'): 2140\n",
      "INFO:coolpuppy:('chr6', 'chr6'): 1759\n",
      "INFO:coolpuppy:('chr7', 'chr7'): 1909\n",
      "INFO:coolpuppy:('chr8', 'chr8'): 1665\n",
      "INFO:coolpuppy:('chr9', 'chr9'): 1748\n",
      "INFO:coolpuppy:Total number of piled up windows: 29952\n"
     ]
    },
    {
     "name": "stdout",
     "output_type": "stream",
     "text": [
      "i is 0\n",
      "score is 1.144169869759504\n",
      "i is 1\n",
      "score is 1.1334198103247957\n",
      "i is 2\n",
      "score is 1.1388671986220822\n"
     ]
    },
    {
     "data": {
      "image/png": "[encoded data removed]",
      "text/plain": [
       "<Figure size 864x288 with 4 Axes>"
      ]
     },
     "metadata": {},
     "output_type": "display_data"
    },
    {
     "name": "stderr",
     "output_type": "stream",
     "text": [
      "INFO:coolpuppy:('chr1', 'chr1'): 2086\n",
      "INFO:coolpuppy:('chr10', 'chr10'): 1550\n",
      "INFO:coolpuppy:('chr11', 'chr11'): 2074\n",
      "INFO:coolpuppy:('chr12', 'chr12'): 1280\n",
      "INFO:coolpuppy:('chr13', 'chr13'): 1283\n",
      "INFO:coolpuppy:('chr14', 'chr14'): 1271\n",
      "INFO:coolpuppy:('chr15', 'chr15'): 1221\n",
      "INFO:coolpuppy:('chr16', 'chr16'): 1059\n",
      "INFO:coolpuppy:('chr17', 'chr17'): 1297\n",
      "INFO:coolpuppy:('chr18', 'chr18'): 915\n",
      "INFO:coolpuppy:('chr19', 'chr19'): 889\n",
      "INFO:coolpuppy:('chr2', 'chr2'): 2320\n",
      "INFO:coolpuppy:('chr3', 'chr3'): 1537\n",
      "INFO:coolpuppy:('chr4', 'chr4'): 1949\n",
      "INFO:coolpuppy:('chr5', 'chr5'): 2140\n",
      "INFO:coolpuppy:('chr6', 'chr6'): 1759\n",
      "INFO:coolpuppy:('chr7', 'chr7'): 1909\n",
      "INFO:coolpuppy:('chr8', 'chr8'): 1665\n",
      "INFO:coolpuppy:('chr9', 'chr9'): 1748\n",
      "INFO:coolpuppy:Total number of piled up windows: 29952\n"
     ]
    },
    {
     "name": "stdout",
     "output_type": "stream",
     "text": [
      "i is 0\n",
      "score is 1.126636054087945\n",
      "i is 1\n",
      "score is 1.1058982693224064\n",
      "i is 2\n",
      "score is 1.1163322258421158\n"
     ]
    },
    {
     "data": {
      "image/png": "[encoded data removed]",
      "text/plain": [
       "<Figure size 864x288 with 4 Axes>"
      ]
     },
     "metadata": {},
     "output_type": "display_data"
    }
   ],
   "source": [
    "sites=peaks_motifs_bin_s.copy()\n",
    "\n",
    "csv_file = \"../output/scores/experiments/experimental_data_table.csv\"\n",
    "df = pd.read_csv(csv_file)\n",
    "for sample in sample_dict_liu:\n",
    "    mcool_path_liu =  cooler_prefix_liu + sample_dict_liu[sample]\n",
    "    liu_cooler = cooler.Cooler(mcool_path_liu+'::resolutions/'+str(res))\n",
    "    view_df_liu = cooltools.lib.make_cooler_view(liu_cooler)\n",
    "    view_df_liu = view_df_liu[view_df_liu['chrom'].isin(view_df_bonev['chrom'])]\n",
    "    view_df_liu_sort = view_df_liu.reset_index(drop=True)\n",
    "    \n",
    "    clr = liu_cooler\n",
    "    pseudocount = 10./clr.info['sum']\n",
    "    pseudocount =0\n",
    "    expected = expected_cis(\n",
    "        clr,\n",
    "        ignore_diags=0,\n",
    "        view_df=view_df_liu_sort,\n",
    "        chunksize=1000000)\n",
    "    \n",
    "    pup = coolpup.pileup(clr, sites, features_format='bed', expected_df=expected,view_df=view_df_liu_sort, local=True,\n",
    "                        by_strand=True,\n",
    "                        flank=300_000, min_diag=0\n",
    "                        )\n",
    "\n",
    "    scr=[]\n",
    "    delta_val = 1\n",
    "    diag_offset_val = 5\n",
    "    max_distance_val = 30\n",
    "    for i in range(len(pup['data'])):\n",
    "        print('i is %s'%i)\n",
    "        pile = pup['data'][i]\n",
    "        score=chrscores.isolation_score(pile,delta=delta_val,diag_offset=diag_offset_val,max_dist=max_distance_val,\n",
    "                                        snippet_shapes='triangle',\n",
    "                                        pseudo_count=pseudocount)\n",
    "        scr.append(score)\n",
    "        print('score is %s'%score)\n",
    "        #print('average is %s'%(np.mean(a[a>0])/np.mean(b[b>0])))\n",
    "\n",
    "    # writing to the file\n",
    "    if sample == 'Wapl-0h':\n",
    "        condition = (df['measurement'] == 'Isolation') & (df['paper'] == 'Liu_2020') & (df['condition'] == 'WT')\n",
    "        df.loc[condition, 'value'] = score\n",
    "    elif sample == 'Wapl-6h':\n",
    "        condition = condition = (df['measurement'] == 'Isolation') & (df['paper'] == 'Liu_2020') & (df['condition'] == 'Wapl_6h')\n",
    "        df.loc[condition, 'value'] = score    \n",
    "    df.to_csv(csv_file, index=False)\n",
    "    plotpup.plot(pup,\n",
    "             cols='orientation', col_order=['++', '--','all'],\n",
    "             score=False, cmap='coolwarm', scale='log', sym=True, vmax=1.5,\n",
    "             height=3)\n",
    "    \n",
    "    \n",
    "    plt.savefig('../output/figures/ondiagonal_for_liu_%s.pdf'%sample)\n",
    "    plt.show()"
   ]
  },
  {
   "cell_type": "code",
   "execution_count": 48,
   "id": "2bf7c8fb-5ea4-4db1-8424-03aedfd0229a",
   "metadata": {},
   "outputs": [],
   "source": [
    "# Liu et al 2021"
   ]
  },
  {
   "cell_type": "code",
   "execution_count": null,
   "id": "eed0dc3d-a4ce-4193-bb5b-5807deae9f87",
   "metadata": {},
   "outputs": [],
   "source": [
    "sites=peaks_motifs_bin_s.copy()\n",
    "\n",
    "for sample in sample_dict_liu_new:\n",
    "    mcool_path_liu_new =  cooler_prefix_liu_new + sample_dict_liu_new[sample]\n",
    "    liu_cooler_new = cooler.Cooler(mcool_path_liu_new+'::resolutions/'+str(res))\n",
    "    view_df_liu_new = cooltools.lib.make_cooler_view(liu_cooler_new)[:19]\n",
    "    \n",
    "    clr = liu_cooler_new\n",
    "    pseudocount = 10./clr.info['sum']\n",
    "    pseudocount = 0\n",
    "    expected = expected_cis(\n",
    "        clr,\n",
    "        ignore_diags=0,\n",
    "        view_df=view_df_liu_new[:1],\n",
    "        chunksize=1000000)\n",
    "    \n",
    "    pup = coolpup.pileup(clr, sites, features_format='bed', expected_df=expected,view_df=view_df_liu_new[:1], local=True,\n",
    "                        by_strand=True,\n",
    "                        flank=300_000, min_diag=0\n",
    "                        )\n",
    "\n",
    "    scr=[]\n",
    "    delta_val = 1\n",
    "    diag_offset_val = 5\n",
    "    max_distance_val = 30\n",
    "    for i in range(len(pup['data'])):\n",
    "        print('i is %s'%i)\n",
    "        pile = pup['data'][i]\n",
    "        score=chrscores.isolation_score(pile,delta=delta_val,diag_offset=diag_offset_val,max_dist=max_distance_val,\n",
    "                                        snippet_shapes='triangle',\n",
    "                                        pseudo_count=pseudocount)\n",
    "        scr.append(score)\n",
    "        print('score is %s'%score)\n",
    "        \n",
    "    \n",
    "    plotpup.plot(pup,\n",
    "             cols='orientation', col_order=['++', '--','all'],\n",
    "             score=False, cmap='coolwarm', scale='log', sym=True, vmax=1.5,\n",
    "             height=3)\n",
    "    \n",
    "    plt.savefig('output/figs/ondiagonal_for_liu_new_%s.pdf'%sample)\n",
    "    plt.show()"
   ]
  }
 ],
 "metadata": {
  "kernelspec": {
   "display_name": "open2c",
   "language": "python",
   "name": "open2c"
  },
  "language_info": {
   "codemirror_mode": {
    "name": "ipython",
    "version": 3
   },
   "file_extension": ".py",
   "mimetype": "text/x-python",
   "name": "python",
   "nbconvert_exporter": "python",
   "pygments_lexer": "ipython3",
   "version": "3.9.15"
  }
 },
 "nbformat": 4,
 "nbformat_minor": 5
}
