{
 "cells": [
  {
   "cell_type": "code",
   "execution_count": null,
   "id": "e9805eda",
   "metadata": {},
   "outputs": [],
   "source": [
    "for st, end in zip(bins[:-1], bins[1:]):\n",
    "        cur = []\n",
    "        ctcf_right_cur = []\n",
    "        ctcf_left_cur = []\n",
    "        for i in range(st, end):\n",
    "            translocator.step()        \n",
    "\n",
    "            cur.append(translocator.LEFs.copy())\n",
    "\n",
    "            ctcfrightpos = (translocator.stallProbRight)[ctcfrightlist]*1\n",
    "            ctcfleftpos = (translocator.stallProbLeft)[ctcfleftlist]*1\n",
    "            ctcf_right_cur.append((ctcfrightpos).reshape(len(ctcfrightpos),1))\n",
    "            ctcf_left_cur.append(ctcfleftpos.reshape(len(ctcfleftpos),1))\n",
    "\n",
    "        cur = np.array(cur)\n",
    "        ctcf_right_cur = np.array(ctcf_right_cur)\n",
    "        ctcf_left_cur = np.array(ctcf_left_cur)\n",
    "        dset[st:end] = cur\n",
    "        dset_pos_right[st:end] = ctcf_right_cur\n",
    "        dset_pos_left[st:end] = ctcf_left_cur"
   ]
  }
 ],
 "metadata": {
  "kernelspec": {
   "display_name": "Python 3 (ipykernel)",
   "language": "python",
   "name": "python3"
  },
  "language_info": {
   "codemirror_mode": {
    "name": "ipython",
    "version": 3
   },
   "file_extension": ".py",
   "mimetype": "text/x-python",
   "name": "python",
   "nbconvert_exporter": "python",
   "pygments_lexer": "ipython3",
   "version": "3.9.13"
  }
 },
 "nbformat": 4,
 "nbformat_minor": 5
}
