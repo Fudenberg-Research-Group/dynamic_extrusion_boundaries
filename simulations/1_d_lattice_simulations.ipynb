{
 "cells": [
  {
   "cell_type": "code",
   "execution_count": 1,
   "id": "d95c2419",
   "metadata": {},
   "outputs": [],
   "source": [
    "import ast\n",
    "import os\n",
    "import time\n",
    "import numpy as np\n",
    "\n",
    "import h5py \n",
    "import warnings\n",
    "import glob\n",
    "import sys\n",
    "\n",
    "from lattice_translocators import LEFTranslocator\n",
    "from lattice_translocators import LEFTranslocatorDynamicBoundary\n",
    "import cooltools\n",
    "import matplotlib.pylab as plt"
   ]
  },
  {
   "cell_type": "markdown",
   "id": "94f32b2d",
   "metadata": {},
   "source": [
    "# Making Arrays"
   ]
  },
  {
   "cell_type": "markdown",
   "id": "94894933",
   "metadata": {},
   "source": [
    "### LEF arrays"
   ]
  },
  {
   "cell_type": "code",
   "execution_count": 3,
   "id": "ccd2e661",
   "metadata": {},
   "outputs": [],
   "source": [
    "def make_lef_arrays(paramdictx):\n",
    "    \n",
    "    N1 = paramdictx['monomer_per_replica']\n",
    "    Sites_per_monomer = paramdictx['sites_per_monomer']\n",
    "    Lattice_sites = N1 * Sites_per_monomer\n",
    "    M = paramdictx['replication_number']\n",
    "    Separation = paramdictx['separation']\n",
    "    LEFNum = (N1 * M) // Separation\n",
    "    LIFETIME_WT = paramdictx['lifetime']\n",
    "    velocity_multiplier = paramdictx['velocity_multiplier']\n",
    "    LIFETIME = int(LIFETIME_WT * velocity_multiplier) * Sites_per_monomer \n",
    "           \n",
    "    Array = np.zeros(Lattice_sites, dtype=np.double)\n",
    "    birthArray = Array + 0.1 \n",
    "    deathArray = Array + 1. / LIFETIME\n",
    "    stallDeathArray = Array + 1 / LIFETIME\n",
    "    pauseArray = Array\n",
    "        \n",
    "    return birthArray, deathArray, stallDeathArray, pauseArray, LEFNum"
   ]
  },
  {
   "cell_type": "markdown",
   "id": "3416eed8",
   "metadata": {},
   "source": [
    "### STALL Arrays"
   ]
  },
  {
   "cell_type": "code",
   "execution_count": 4,
   "id": "82c4912b",
   "metadata": {},
   "outputs": [],
   "source": [
    "def make_stall_array(paramdictx, RightstallList, LeftstallList):\n",
    "    \n",
    "    N1 = paramdictx['monomer_per_replica']\n",
    "    Sites_per_monomer = paramdictx['sites_per_monomer']\n",
    "    Lattice_sites = N1 * Sites_per_monomer\n",
    "    velocity_multiplier = paramdictx['velocity_multiplier']\n",
    "    Facestall_wt = paramdictx['facestall']\n",
    "    Backstall_wt = paramdictx['backstall']  \n",
    "    Facestall =   1 - (1 - (Facestall_wt))**( 1/velocity_multiplier)\n",
    "    Backstall =   1 - (1 - (Backstall_wt))**( 1/velocity_multiplier) \n",
    "\n",
    "    Array = np.zeros(Lattice_sites, dtype=np.double)\n",
    "    stallRight = np.zeros(Lattice_sites, dtype=np.double)\n",
    "    stallLeft = np.zeros(Lattice_sites, dtype=np.double)\n",
    "    stallRight_c = np.zeros(Lattice_sites, dtype=np.double)\n",
    "    stallLeft_c = np.zeros(Lattice_sites, dtype=np.double)\n",
    "    \n",
    "    for i in RightstallList:\n",
    "        stallRight[i] = Facestall\n",
    "        stallLeft[i] = Backstall\n",
    "\n",
    "    for j in LeftstallList:\n",
    "        stallRight_c[j] = Backstall\n",
    "        stallLeft_c[j] = Facestall\n",
    "        \n",
    "    stallRightArray = stallRight + stallRight_c\n",
    "    stallLeftArray = stallLeft + stallLeft_c\n",
    "    \n",
    "    return stallRightArray, stallLeftArray"
   ]
  },
  {
   "cell_type": "markdown",
   "id": "bbbcfed4",
   "metadata": {},
   "source": [
    "### Translocation Arrays"
   ]
  },
  {
   "cell_type": "code",
   "execution_count": 5,
   "id": "2a9d73c2",
   "metadata": {},
   "outputs": [],
   "source": [
    "def make_translocator(paramdictx, RightstallList, LeftstallList):\n",
    "    \n",
    "    N1 = paramdictx['monomer_per_replica']\n",
    "    M = paramdictx['replication_number']\n",
    "    SEPARATION = paramdictx['separation']\n",
    "    Stalltime_WT = paramdictx['stalltime']\n",
    "    Stalloftime_WT = paramdictx['stalloftime']\n",
    "    Sites_per_monomer = paramdictx['sites_per_monomer']\n",
    "    velocity_multiplier = paramdictx['velocity_multiplier']\n",
    "    stalltime = Stalltime_WT * velocity_multiplier * Sites_per_monomer\n",
    "    stalloftime = Stalloftime_WT * velocity_multiplier * Sites_per_monomer\n",
    "    \n",
    "    birthArray, deathArray, stallDeathArray, pauseArray, LEFNum = make_lef_arrays(paramdictx)\n",
    "    stallRightArray, stallLeftArray = make_stall_array(paramdictx, RightstallList, LeftstallList) \n",
    "    LEFTran = LEFTranslocatorDynamicBoundary(\n",
    "        np.tile(birthArray,M), \n",
    "        np.tile(deathArray,M),\n",
    "        np.tile(stallLeftArray,M),\n",
    "        np.tile(stallRightArray,M),\n",
    "        np.tile(pauseArray,M),\n",
    "        np.tile(stallDeathArray,M),\n",
    "        stalltime, \n",
    "        stalloftime,\n",
    "        LEFNum)\n",
    "    return LEFTran, LEFNum"
   ]
  },
  {
   "cell_type": "markdown",
   "id": "120eeee5",
   "metadata": {},
   "source": [
    "### parameters"
   ]
  },
  {
   "cell_type": "code",
   "execution_count": 6,
   "id": "3f8915f7",
   "metadata": {},
   "outputs": [],
   "source": [
    "paramdict = {\n",
    "    'lifetime':50,\n",
    "    'separation':10,\n",
    "    'facestall':0.9,\n",
    "    'backstall':0.0,\n",
    "    'stalltime':10,\n",
    "    'stalloftime':1,\n",
    "    'stalldist':10,\n",
    "    'steps':200,\n",
    "    'velocity_multiplier':1,\n",
    "    'sites_per_monomer':5,\n",
    "    'monomer_per_replica':100,\n",
    "    'replication_number':10\n",
    "}\n",
    "N1 = paramdict['monomer_per_replica']   # number of monomers\n",
    "M = paramdict['replication_number'] # number of replicas of the simulation\n",
    "N = N1 * M  # total number of monomers\n",
    "for i in range(len(paramdict)):\n",
    "        exec(\"%s_WT=%d\"%(str(list(paramdict)[i]).upper(),paramdict[list(paramdict)[i]]))\n",
    "\n",
    "steps = int(STEPS_WT / VELOCITY_MULTIPLIER_WT)  "
   ]
  },
  {
   "cell_type": "markdown",
   "id": "1af92fa8",
   "metadata": {},
   "source": [
    "### testing arrays"
   ]
  },
  {
   "cell_type": "code",
   "execution_count": 7,
   "id": "4c4ee4e3",
   "metadata": {},
   "outputs": [
    {
     "name": "stdout",
     "output_type": "stream",
     "text": [
      "10\n",
      "10\n",
      "32.059999999999995 41.43\n"
     ]
    }
   ],
   "source": [
    "paramdict1 = {\n",
    "    'lifetime':10,\n",
    "    'separation':10,\n",
    "    'facestall':0.9,\n",
    "    'backstall':0.0,\n",
    "    'stalltime':1000,\n",
    "    'stalloftime':1,\n",
    "    'stalldist':10,\n",
    "    'steps':200,\n",
    "    'velocity_multiplier':1,\n",
    "    'sites_per_monomer':5,\n",
    "    'monomer_per_replica':10,\n",
    "    'replication_number':10\n",
    "}\n",
    "\n",
    "Lattice_sites1 = paramdict1['monomer_per_replica'] * paramdict1['sites_per_monomer']\n",
    "RightstallList1 = [i for i in range(0, Lattice_sites1, 50)]\n",
    "LeftstallList1 = [k for k in range(10, Lattice_sites1, 50)]\n",
    "Stalldist = STALLDIST_WT * SITES_PER_MONOMER_WT \n",
    "l, lefnum = make_translocator(paramdict1, RightstallList1, LeftstallList1)\n",
    "num_lefs1 = len(l.getLEFs()[1])\n",
    "print(len(l.getLEFs()[1]))\n",
    "\n",
    "paramdict5 = {\n",
    "    'lifetime':30,\n",
    "    'separation':10,\n",
    "    'facestall':0.9,\n",
    "    'backstall':0.0,\n",
    "    'stalltime':1000,\n",
    "    'stalloftime':1,\n",
    "    'stalldist':10,\n",
    "    'steps':200,\n",
    "    'velocity_multiplier':1,\n",
    "    'sites_per_monomer':5,\n",
    "    'monomer_per_replica':10,\n",
    "    'replication_number':10\n",
    "}\n",
    "\n",
    "Lattice_sites5 = paramdict5['monomer_per_replica'] * paramdict5['sites_per_monomer']\n",
    "RightstallList5 = [i for i in range(0, Lattice_sites5, 50)]\n",
    "LeftstallList5 = [k for k in range(10, Lattice_sites5, 50)]\n",
    "l, lefnum = make_translocator(paramdict5, RightstallList5, LeftstallList5)\n",
    "num_lefs5 = len(l.getLEFs()[1])\n",
    "print(len(l.getLEFs()[1]))\n",
    "\n",
    "### testing lef number\n",
    "assert num_lefs1 == num_lefs5\n",
    "\n",
    "\n",
    "### testing processivity\n",
    "dists1=[]\n",
    "dists5=[]\n",
    "TRAJ_LEN = 100\n",
    "for j in range(10):\n",
    "    l, lefnum = make_translocator(paramdict1, RightstallList1, LeftstallList1)\n",
    "    l.steps(TRAJ_LEN)\n",
    "    lefs1 = l.getLEFs()\n",
    "    avg_dist_1 = np.mean(lefs1[1]-lefs1[0])\n",
    "    dists1.append(avg_dist_1)\n",
    "    \n",
    "\n",
    "    l, lefnum = make_translocator(paramdict5, RightstallList5, LeftstallList5)\n",
    "    l.steps(TRAJ_LEN * paramdict['sites_per_monomer'])\n",
    "    lefs5 = l.getLEFs()\n",
    "    avg_dist_5 = np.mean( lefs5[1]-lefs5[0])\n",
    "    dists5.append(avg_dist_5)\n",
    "print(np.mean(dists1), np.mean(dists5))"
   ]
  },
  {
   "cell_type": "markdown",
   "id": "49a6a675",
   "metadata": {},
   "source": [
    "### making file name"
   ]
  },
  {
   "cell_type": "code",
   "execution_count": 8,
   "id": "7764b6b2",
   "metadata": {},
   "outputs": [],
   "source": [
    "def paramdict_to_filename(paramdictx):\n",
    "    \n",
    "    filename='file'\n",
    "    for i in range(len(paramdictx)):\n",
    "        filename += ('_'+list(paramdictx)[i][:3]+'_'+str(paramdictx[list(paramdictx)[i]]))\n",
    "        \n",
    "    return filename"
   ]
  },
  {
   "cell_type": "markdown",
   "id": "3838465e",
   "metadata": {},
   "source": [
    "### Validation, 1d simulation"
   ]
  },
  {
   "cell_type": "code",
   "execution_count": 10,
   "id": "6f3df21e",
   "metadata": {},
   "outputs": [],
   "source": [
    "########## parameters #############\n",
    "paramdict = {\n",
    "    'lifetime':50,\n",
    "    'separation':10,\n",
    "    'facestall':1,\n",
    "    'backstall':0.0,\n",
    "    'stalltime':0.0,\n",
    "    'stalloftime':10,\n",
    "    'stalldist':10,\n",
    "    'steps':200,\n",
    "    'velocity_multiplier':1,\n",
    "    'sites_per_monomer':10,\n",
    "    'monomer_per_replica':100,\n",
    "    'replication_number':10\n",
    "}\n",
    "\n",
    "N1 = paramdict['monomer_per_replica']   # number of monomers\n",
    "M = paramdict['replication_number'] # number of replicas of the simulation\n",
    "N = N1 * M  # total number of monomers\n",
    "Sites_per_monomer = paramdict['sites_per_monomer']\n",
    "Lattice_sites = N1 * Sites_per_monomer\n",
    "\n",
    "RightstallList = [i for i in range(3 * Sites_per_monomer, Lattice_sites, Lattice_sites // 4)]\n",
    "LeftstallList = [k for k in range(3 * Sites_per_monomer, Lattice_sites, Lattice_sites // 4)]\n",
    "LEFTran, LEFNum = make_translocator(paramdict, RightstallList, LeftstallList)\n",
    "\n",
    "\n",
    "\n",
    "############# making folder for simulation ###############\n",
    "file_name = paramdict_to_filename(paramdict)\n",
    "folder_name = '/samples/'+'folder_' + file_name.split('file_')[1]\n",
    "folder = os.getcwd() + folder_name\n",
    "\n",
    "if os.path.exists(folder):\n",
    "    print(\"already exist\")\n",
    "else:\n",
    "    os.mkdir(folder)\n",
    "\n",
    "\n",
    "########### simulation parameters ###########\n",
    "Trajn = 100 # trajectory length in monomer \n",
    "trajectoryLength = Trajn * Sites_per_monomer #trajectory length in lattice land\n",
    "num_dummy_steps = Trajn//100 * Sites_per_monomer #dummy steps in lattice land\n",
    "blocksteps = 5 \n",
    "bins = np.linspace(0, trajectoryLength, blocksteps, dtype=int)\n",
    " \n",
    "    \n",
    "#########   Making LEFs arrays during trajectory length #######      \n",
    "with h5py.File(folder+\"/LEFPositions.h5\", mode='w') as myfile:\n",
    "    dset = myfile.create_dataset(\"positions\", \n",
    "                                 shape=(trajectoryLength, LEFNum, 2), #edited\n",
    "                                 dtype=np.int32, \n",
    "                                 compression=\"gzip\")\n",
    "    \n",
    "    LEFTran.steps(num_dummy_steps)\n",
    "    \n",
    "    for st, end in zip(bins[:-1], bins[1:]):\n",
    "        cur = []\n",
    "        for i in range(st, end):\n",
    "            LEFTran.steps(1)\n",
    "            LEFs = LEFTran.getLEFs()\n",
    "            cur.append(np.array(LEFs).T)\n",
    "        cur = np.array(cur)\n",
    "        dset[st:end] = cur\n",
    "    myfile.attrs[\"N\"] = N #* Sites_per_monomer\n",
    "    myfile.attrs[\"LEFNum\"] = LEFNum\n"
   ]
  },
  {
   "cell_type": "markdown",
   "id": "375bce8b",
   "metadata": {},
   "source": [
    "### 1 d Analysis"
   ]
  },
  {
   "cell_type": "code",
   "execution_count": 11,
   "id": "c1a67666",
   "metadata": {},
   "outputs": [],
   "source": [
    "def map_from_lefs(dset, trajectoryLength, LEFNum, Lattice_sites):\n",
    "    \n",
    "    ll = np.mod(dset.reshape( (trajectoryLength * LEFNum, 2)), Lattice_sites)\n",
    "    ll = ll[ll[:,1] > ll[:,0]]    \n",
    "    lmap = np.histogram2d(ll[:,0],ll[:,1], np.arange(Lattice_sites))[0]\n",
    "    \n",
    "    return (lmap + lmap.T)"
   ]
  },
  {
   "cell_type": "code",
   "execution_count": 12,
   "id": "db3e564e",
   "metadata": {},
   "outputs": [
    {
     "data": {
      "image/png": "[encoded data removed]",
      "text/plain": [
       "<Figure size 640x480 with 1 Axes>"
      ]
     },
     "metadata": {},
     "output_type": "display_data"
    }
   ],
   "source": [
    "file_name = paramdict_to_filename(paramdict)\n",
    "folder_name = '/samples/'+'folder_' + file_name.split('file_')[1]\n",
    "folder = os.getcwd() + folder_name\n",
    "\n",
    "if os.path.exists(folder):\n",
    "    with  h5py.File(folder+\"/LEFPositions.h5\", mode='r') as myfile:\n",
    "            lef_array = np.array(myfile['positions'])\n",
    "            Trajn = 100 # trajectory length in monomer \n",
    "            trajectoryLength = Trajn * paramdict['sites_per_monomer'] #trajectory length in lattice land\n",
    "            Lattice_sites = paramdict['monomer_per_replica']*paramdict['sites_per_monomer']\n",
    "            N = myfile.attrs[\"N\"] #number of monomers  \n",
    "            LEFNum = myfile.attrs[\"LEFNum\"]   #number of extruders\n",
    "            maps = map_from_lefs(lef_array, trajectoryLength, LEFNum, Lattice_sites)\n",
    "                    \n",
    "            plt.matshow(np.log10(maps+1),vmax=1.15/(np.sqrt(paramdict['sites_per_monomer'])), fignum = False) \n",
    "\n",
    "                    \n",
    "            plt.title('stime=%s, softime=%s sprob=%s, sites=%s'%(paramdict['stalltime'],\n",
    "                                                                      paramdict['stalloftime'],\n",
    "                                                                      paramdict['facestall'],\n",
    "                                                                      paramdict['sites_per_monomer']),fontsize=9.51)\n",
    "            plt.xticks([])\n",
    "            plt.yticks(fontsize=10)\n",
    "plt.tight_layout()\n",
    "plt.show()                       \n",
    "                \n"
   ]
  },
  {
   "cell_type": "code",
   "execution_count": null,
   "id": "4bcd510f",
   "metadata": {},
   "outputs": [],
   "source": []
  }
 ],
 "metadata": {
  "kernelspec": {
   "display_name": "Python 3 (ipykernel)",
   "language": "python",
   "name": "python3"
  },
  "language_info": {
   "codemirror_mode": {
    "name": "ipython",
    "version": 3
   },
   "file_extension": ".py",
   "mimetype": "text/x-python",
   "name": "python",
   "nbconvert_exporter": "python",
   "pygments_lexer": "ipython3",
   "version": "3.9.13"
  }
 },
 "nbformat": 4,
 "nbformat_minor": 5
}
